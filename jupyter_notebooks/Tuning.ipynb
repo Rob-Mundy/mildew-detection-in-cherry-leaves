{
 "cells": [
  {
   "cell_type": "markdown",
   "metadata": {
    "id": "0aStgWSO0E0E"
   },
   "source": [
    "# **Hyperparameter Tuning**"
   ]
  },
  {
   "cell_type": "markdown",
   "metadata": {
    "id": "1eLEkw5O0ECa"
   },
   "source": [
    "## Objectives\n",
    "\n",
    "* Explore effects of hyperparater tuning on model\n",
    "\n",
    "## Inputs\n",
    "\n",
    "* inputs/mildew_dataset/cherry-leaves/test\n",
    "* inputs/mildew_dataset/cherry-leaves/train\n",
    "* inputs/mildew_dataset/cherry-leaves/validation\n",
    "* image shape embeddings\n",
    "\n",
    "## Outputs\n",
    "\n",
    "* Model performance curve plot\n",
    "* Model evaluation pickle file\n",
    "\n",
    "## Additional Comments\n",
    "\n",
    "* No comments"
   ]
  },
  {
   "cell_type": "markdown",
   "metadata": {
    "id": "9uWZXH9LwoQg"
   },
   "source": [
    "---"
   ]
  },
  {
   "cell_type": "markdown",
   "metadata": {},
   "source": [
    "## Import regular packages"
   ]
  },
  {
   "cell_type": "code",
   "execution_count": 1,
   "metadata": {},
   "outputs": [],
   "source": [
    "import os\n",
    "import pandas as pd\n",
    "import numpy as np\n",
    "import matplotlib.pyplot as plt\n",
    "import seaborn as sns\n",
    "from matplotlib.image import imread"
   ]
  },
  {
   "cell_type": "markdown",
   "metadata": {
    "id": "cqP-UeN-z3i2"
   },
   "source": [
    "## Set Working Directory"
   ]
  },
  {
   "cell_type": "code",
   "execution_count": 2,
   "metadata": {
    "id": "wZfF_j-Bz3i4",
    "outputId": "66943449-1436-4c3d-85c7-b85f9f78349b"
   },
   "outputs": [],
   "source": [
    "cwd= os.getcwd()"
   ]
  },
  {
   "cell_type": "code",
   "execution_count": 3,
   "metadata": {},
   "outputs": [
    {
     "name": "stdout",
     "output_type": "stream",
     "text": [
      "You set a new current directory\n"
     ]
    }
   ],
   "source": [
    "os.chdir('/workspaces/mildew-detection-in-cherry-leaves')\n",
    "print(\"You set a new current directory\")"
   ]
  },
  {
   "cell_type": "code",
   "execution_count": 4,
   "metadata": {},
   "outputs": [
    {
     "data": {
      "text/plain": [
       "'/workspaces/mildew-detection-in-cherry-leaves'"
      ]
     },
     "execution_count": 4,
     "metadata": {},
     "output_type": "execute_result"
    }
   ],
   "source": [
    "work_dir = os.getcwd()\n",
    "work_dir"
   ]
  },
  {
   "cell_type": "markdown",
   "metadata": {},
   "source": [
    "## Set input directories"
   ]
  },
  {
   "cell_type": "code",
   "execution_count": 5,
   "metadata": {},
   "outputs": [],
   "source": [
    "my_data_dir = 'inputs/mildew_dataset/cherry-leaves'\n",
    "train_path = my_data_dir + '/train'\n",
    "val_path = my_data_dir + '/validation'\n",
    "test_path = my_data_dir + '/test'"
   ]
  },
  {
   "cell_type": "markdown",
   "metadata": {
    "id": "ZY3l0-AxO93d"
   },
   "source": [
    "---"
   ]
  },
  {
   "cell_type": "markdown",
   "metadata": {
    "id": "uFQo3ycuO-v6"
   },
   "source": [
    "## Set output directory"
   ]
  },
  {
   "cell_type": "code",
   "execution_count": 6,
   "metadata": {},
   "outputs": [
    {
     "name": "stdout",
     "output_type": "stream",
     "text": [
      "Old version is already available create a new version.\n"
     ]
    }
   ],
   "source": [
    "version = 'v2'\n",
    "file_path = f'outputs/{version}'\n",
    "\n",
    "if 'outputs' in os.listdir(work_dir) and version in os.listdir(work_dir + '/outputs'):\n",
    "  print('Old version is already available create a new version.')\n",
    "  pass\n",
    "else:\n",
    "  os.makedirs(name=file_path)"
   ]
  },
  {
   "cell_type": "markdown",
   "metadata": {},
   "source": [
    "## Set labels"
   ]
  },
  {
   "cell_type": "code",
   "execution_count": 7,
   "metadata": {},
   "outputs": [
    {
     "name": "stdout",
     "output_type": "stream",
     "text": [
      "Label: ['healthy', 'powdery_mildew']\n"
     ]
    }
   ],
   "source": [
    "labels = os.listdir(train_path)\n",
    "\n",
    "print(\n",
    "    f\"Label: {labels}\"\n",
    "    )"
   ]
  },
  {
   "cell_type": "markdown",
   "metadata": {},
   "source": [
    "## Set image shape"
   ]
  },
  {
   "cell_type": "code",
   "execution_count": 8,
   "metadata": {},
   "outputs": [
    {
     "data": {
      "text/plain": [
       "(256, 256, 3)"
      ]
     },
     "execution_count": 8,
     "metadata": {},
     "output_type": "execute_result"
    }
   ],
   "source": [
    "## Import saved image shape embedding pickle file\n",
    "import joblib\n",
    "version = 'v1'\n",
    "image_shape = joblib.load(filename=f\"outputs/{version}/image_shape.pkl\")\n",
    "image_shape"
   ]
  },
  {
   "cell_type": "markdown",
   "metadata": {},
   "source": [
    "---"
   ]
  },
  {
   "cell_type": "markdown",
   "metadata": {},
   "source": [
    "## Importing libraries"
   ]
  },
  {
   "cell_type": "code",
   "execution_count": 9,
   "metadata": {},
   "outputs": [],
   "source": [
    "from keras.preprocessing.image import load_img,save_img,ImageDataGenerator\n",
    "from os import listdir\n",
    "from tensorflow import keras"
   ]
  },
  {
   "cell_type": "code",
   "execution_count": 10,
   "metadata": {},
   "outputs": [],
   "source": [
    "augmented_image_data = ImageDataGenerator(rotation_range=20,\n",
    "                                   width_shift_range=0.10, \n",
    "                                   height_shift_range=0.10,\n",
    "                                   shear_range=0.1,\n",
    "                                   zoom_range=0.1,\n",
    "                                   horizontal_flip=True,\n",
    "                                   vertical_flip=True,\n",
    "                                   fill_mode='nearest',\n",
    "                                   rescale=1./255\n",
    "                              )"
   ]
  },
  {
   "cell_type": "code",
   "execution_count": 11,
   "metadata": {},
   "outputs": [],
   "source": [
    "from tensorflow.keras.models import Sequential\n",
    "from tensorflow.keras.layers import Activation, Dropout, Flatten, Dense, Conv2D, MaxPooling2D"
   ]
  },
  {
   "cell_type": "code",
   "execution_count": 12,
   "metadata": {},
   "outputs": [],
   "source": [
    "from tensorflow.keras.callbacks import EarlyStopping\n",
    "callback = EarlyStopping(monitor='val_loss',patience=3)"
   ]
  },
  {
   "cell_type": "code",
   "execution_count": 13,
   "metadata": {},
   "outputs": [],
   "source": [
    "def batch_size_effect(opt, batch_size):\n",
    "  print(\"Evaluating optimiser\" + str(opt) + \"batch size \" + str(batch_size))\n",
    "  # prepare iterators\n",
    "  train_set = augmented_image_data.flow_from_directory(train_path,\n",
    "                                              target_size=image_shape[:2],\n",
    "                                              color_mode='rgb',\n",
    "                                              batch_size=batch_size,\n",
    "                                              class_mode='binary',\n",
    "                                              shuffle=True\n",
    "                                              )\n",
    "  validation_set = ImageDataGenerator(rescale=1./255).flow_from_directory(val_path,\n",
    "                                                          target_size=image_shape[:2],\n",
    "                                                          color_mode='rgb',\n",
    "                                                          batch_size=batch_size,\n",
    "                                                          class_mode='binary',\n",
    "                                                          shuffle=False\n",
    "                                                          )\n",
    "\n",
    "  test_set = ImageDataGenerator(rescale=1./255).flow_from_directory(test_path,\n",
    "                                                    target_size=image_shape[:2],\n",
    "                                                    color_mode='rgb',\n",
    "                                                    batch_size=batch_size,\n",
    "                                                    class_mode='binary',\n",
    "                                                    shuffle=False\n",
    "                                                    )\n",
    "\n",
    "  # create the model\n",
    "  model2 = Sequential()\n",
    "  model2.add(Conv2D(filters=16,kernel_size=(3,3),input_shape=image_shape,activation='relu'))\n",
    "  model2.add(MaxPooling2D(pool_size=(2,2)))\n",
    "  model2.add(Conv2D(32,(3,3),activation='relu'))\n",
    "  model2.add(MaxPooling2D(pool_size=(2,2)))\n",
    "  model2.add(Conv2D(64,(3,3),activation='relu'))\n",
    "  model2.add(MaxPooling2D(pool_size=(2,2)))\n",
    "  model2.add(Flatten())\n",
    "  model2.add(Dense(64,activation='relu'))\n",
    "  model2.add(Dropout(0.25))\n",
    "  model2.add(Dense(1,activation='sigmoid'))\n",
    "    \n",
    "  # Compile model\n",
    "  model2.compile(loss='binary_crossentropy',\n",
    "                  optimizer=opt,\n",
    "                  metrics=['accuracy'])\n",
    " \n",
    "  # fit the model\n",
    "  model2.fit(\n",
    "        train_set, # pass in the training set\n",
    "        steps_per_epoch=len(train_set.classes)//batch_size,\n",
    "        epochs=5,\n",
    "        validation_data=validation_set, # pass in the validation set\n",
    "        callbacks=[callback],\n",
    "        verbose=1\n",
    "        )\n",
    "\n",
    "  # evaluate model\n",
    "  _, acc = model2.evaluate(test_set, steps=len(test_set), verbose=1)\n",
    "  return acc"
   ]
  },
  {
   "cell_type": "markdown",
   "metadata": {},
   "source": [
    "## Comparing Adam and SGD optimizers"
   ]
  },
  {
   "cell_type": "raw",
   "metadata": {},
   "source": [
    "We will assess the model's accuracy after 5 epochs using Adam and SGD optimizers for various batch sizes: 16, 32, 64, 128."
   ]
  },
  {
   "cell_type": "code",
   "execution_count": 14,
   "metadata": {},
   "outputs": [],
   "source": [
    "# set batch size array\n",
    "batch_sizes_array = [16,32,64,128]"
   ]
  },
  {
   "cell_type": "code",
   "execution_count": 15,
   "metadata": {},
   "outputs": [
    {
     "name": "stdout",
     "output_type": "stream",
     "text": [
      "Evaluating optimiseradambatch size 16\n",
      "Found 2944 images belonging to 2 classes.\n",
      "Found 420 images belonging to 2 classes.\n",
      "Found 844 images belonging to 2 classes.\n"
     ]
    },
    {
     "name": "stderr",
     "output_type": "stream",
     "text": [
      "2023-07-18 08:46:51.831896: I tensorflow/core/platform/cpu_feature_guard.cc:142] This TensorFlow binary is optimized with oneAPI Deep Neural Network Library (oneDNN) to use the following CPU instructions in performance-critical operations:  AVX2 FMA\n",
      "To enable them in other operations, rebuild TensorFlow with the appropriate compiler flags.\n",
      "2023-07-18 08:46:54.763448: I tensorflow/compiler/mlir/mlir_graph_optimization_pass.cc:185] None of the MLIR Optimization Passes are enabled (registered 2)\n"
     ]
    },
    {
     "name": "stdout",
     "output_type": "stream",
     "text": [
      "Epoch 1/5\n",
      "184/184 [==============================] - 190s 995ms/step - loss: 0.2010 - accuracy: 0.9161 - val_loss: 0.0597 - val_accuracy: 0.9833\n",
      "Epoch 2/5\n",
      "184/184 [==============================] - 178s 963ms/step - loss: 0.0817 - accuracy: 0.9688 - val_loss: 0.0242 - val_accuracy: 0.9929\n",
      "Epoch 3/5\n",
      "184/184 [==============================] - 176s 952ms/step - loss: 0.0297 - accuracy: 0.9918 - val_loss: 0.0213 - val_accuracy: 0.9952\n",
      "Epoch 4/5\n",
      "184/184 [==============================] - 178s 964ms/step - loss: 0.0318 - accuracy: 0.9891 - val_loss: 0.0180 - val_accuracy: 0.9952\n",
      "Epoch 5/5\n",
      "184/184 [==============================] - 179s 972ms/step - loss: 0.0300 - accuracy: 0.9905 - val_loss: 6.9864e-04 - val_accuracy: 1.0000\n",
      "53/53 [==============================] - 13s 243ms/step - loss: 0.0073 - accuracy: 0.9988\n",
      "Evaluating optimiseradambatch size 32\n",
      "Found 2944 images belonging to 2 classes.\n",
      "Found 420 images belonging to 2 classes.\n",
      "Found 844 images belonging to 2 classes.\n",
      "Epoch 1/5\n",
      "92/92 [==============================] - 188s 2s/step - loss: 0.4082 - accuracy: 0.7887 - val_loss: 0.0341 - val_accuracy: 0.9929\n",
      "Epoch 2/5\n",
      "92/92 [==============================] - 189s 2s/step - loss: 0.0505 - accuracy: 0.9844 - val_loss: 0.0172 - val_accuracy: 0.9976\n",
      "Epoch 3/5\n",
      "92/92 [==============================] - 189s 2s/step - loss: 0.0348 - accuracy: 0.9898 - val_loss: 0.0494 - val_accuracy: 0.9905\n",
      "Epoch 4/5\n",
      "92/92 [==============================] - 204s 2s/step - loss: 0.0290 - accuracy: 0.9891 - val_loss: 0.0088 - val_accuracy: 0.9976\n",
      "Epoch 5/5\n",
      "92/92 [==============================] - 205s 2s/step - loss: 0.0076 - accuracy: 0.9969 - val_loss: 0.0128 - val_accuracy: 0.9929\n",
      "27/27 [==============================] - 16s 591ms/step - loss: 0.0063 - accuracy: 0.9976\n",
      "Evaluating optimiseradambatch size 64\n",
      "Found 2944 images belonging to 2 classes.\n",
      "Found 420 images belonging to 2 classes.\n",
      "Found 844 images belonging to 2 classes.\n",
      "Epoch 1/5\n",
      "46/46 [==============================] - 220s 5s/step - loss: 0.3367 - accuracy: 0.8444 - val_loss: 0.1571 - val_accuracy: 0.9548\n",
      "Epoch 2/5\n",
      "46/46 [==============================] - 201s 4s/step - loss: 0.0987 - accuracy: 0.9721 - val_loss: 0.0910 - val_accuracy: 0.9738\n",
      "Epoch 3/5\n",
      "46/46 [==============================] - 201s 4s/step - loss: 0.0491 - accuracy: 0.9861 - val_loss: 0.0109 - val_accuracy: 0.9952\n",
      "Epoch 4/5\n",
      "46/46 [==============================] - 211s 5s/step - loss: 0.0107 - accuracy: 0.9983 - val_loss: 0.0245 - val_accuracy: 0.9952\n",
      "Epoch 5/5\n",
      "46/46 [==============================] - 213s 5s/step - loss: 0.0150 - accuracy: 0.9959 - val_loss: 0.0022 - val_accuracy: 1.0000\n",
      "14/14 [==============================] - 16s 1s/step - loss: 0.0053 - accuracy: 0.9988\n",
      "Evaluating optimiseradambatch size 128\n",
      "Found 2944 images belonging to 2 classes.\n",
      "Found 420 images belonging to 2 classes.\n",
      "Found 844 images belonging to 2 classes.\n",
      "Epoch 1/5\n",
      "23/23 [==============================] - 215s 9s/step - loss: 0.8979 - accuracy: 0.6233 - val_loss: 0.4365 - val_accuracy: 0.7810\n",
      "Epoch 2/5\n",
      "23/23 [==============================] - 220s 9s/step - loss: 0.2699 - accuracy: 0.8865 - val_loss: 0.1404 - val_accuracy: 0.9619\n",
      "Epoch 3/5\n",
      "23/23 [==============================] - 227s 10s/step - loss: 0.1500 - accuracy: 0.9457 - val_loss: 0.0577 - val_accuracy: 0.9857\n",
      "Epoch 4/5\n",
      "23/23 [==============================] - 229s 10s/step - loss: 0.0603 - accuracy: 0.9827 - val_loss: 0.0535 - val_accuracy: 0.9857\n",
      "Epoch 5/5\n",
      "23/23 [==============================] - 229s 10s/step - loss: 0.0431 - accuracy: 0.9857 - val_loss: 0.0137 - val_accuracy: 0.9929\n",
      "7/7 [==============================] - 17s 2s/step - loss: 0.0127 - accuracy: 0.9964\n",
      "Evaluating optimisersgdbatch size 16\n",
      "Found 2944 images belonging to 2 classes.\n",
      "Found 420 images belonging to 2 classes.\n",
      "Found 844 images belonging to 2 classes.\n",
      "Epoch 1/5\n",
      "184/184 [==============================] - 216s 1s/step - loss: 0.4870 - accuracy: 0.7578 - val_loss: 0.2399 - val_accuracy: 0.9524\n",
      "Epoch 2/5\n",
      "184/184 [==============================] - 204s 1s/step - loss: 0.2602 - accuracy: 0.8998 - val_loss: 0.1428 - val_accuracy: 0.9595\n",
      "Epoch 3/5\n",
      "184/184 [==============================] - 223s 1s/step - loss: 0.1682 - accuracy: 0.9429 - val_loss: 0.0660 - val_accuracy: 0.9857\n",
      "Epoch 4/5\n",
      "184/184 [==============================] - 203s 1s/step - loss: 0.1506 - accuracy: 0.9504 - val_loss: 0.0561 - val_accuracy: 0.9905\n",
      "Epoch 5/5\n",
      "184/184 [==============================] - 206s 1s/step - loss: 0.1260 - accuracy: 0.9572 - val_loss: 0.0687 - val_accuracy: 0.9833\n",
      "53/53 [==============================] - 14s 271ms/step - loss: 0.0659 - accuracy: 0.9716\n",
      "Evaluating optimisersgdbatch size 32\n",
      "Found 2944 images belonging to 2 classes.\n",
      "Found 420 images belonging to 2 classes.\n",
      "Found 844 images belonging to 2 classes.\n",
      "Epoch 1/5\n",
      "92/92 [==============================] - 237s 3s/step - loss: 0.6095 - accuracy: 0.6586 - val_loss: 0.4098 - val_accuracy: 0.8452\n",
      "Epoch 2/5\n",
      "92/92 [==============================] - 251s 3s/step - loss: 0.4410 - accuracy: 0.8013 - val_loss: 0.3375 - val_accuracy: 0.8714\n",
      "Epoch 3/5\n",
      "92/92 [==============================] - 241s 3s/step - loss: 0.3519 - accuracy: 0.8485 - val_loss: 0.2453 - val_accuracy: 0.8976\n",
      "Epoch 4/5\n",
      "92/92 [==============================] - 253s 3s/step - loss: 0.3030 - accuracy: 0.8702 - val_loss: 0.2301 - val_accuracy: 0.8905\n",
      "Epoch 5/5\n",
      "92/92 [==============================] - 243s 3s/step - loss: 0.2343 - accuracy: 0.9066 - val_loss: 0.1509 - val_accuracy: 0.9595\n",
      "27/27 [==============================] - 17s 611ms/step - loss: 0.1584 - accuracy: 0.9526\n",
      "Evaluating optimisersgdbatch size 64\n",
      "Found 2944 images belonging to 2 classes.\n",
      "Found 420 images belonging to 2 classes.\n",
      "Found 844 images belonging to 2 classes.\n",
      "Epoch 1/5\n",
      "46/46 [==============================] - 241s 5s/step - loss: 0.6399 - accuracy: 0.6240 - val_loss: 0.5326 - val_accuracy: 0.8643\n",
      "Epoch 2/5\n",
      "46/46 [==============================] - 282s 6s/step - loss: 0.5224 - accuracy: 0.7490 - val_loss: 0.3943 - val_accuracy: 0.8310\n",
      "Epoch 3/5\n",
      "46/46 [==============================] - 259s 6s/step - loss: 0.4212 - accuracy: 0.8139 - val_loss: 0.3129 - val_accuracy: 0.8929\n",
      "Epoch 4/5\n",
      "46/46 [==============================] - 259s 6s/step - loss: 0.3586 - accuracy: 0.8441 - val_loss: 0.2633 - val_accuracy: 0.8952\n",
      "Epoch 5/5\n",
      "46/46 [==============================] - 280s 6s/step - loss: 0.2917 - accuracy: 0.8791 - val_loss: 0.2193 - val_accuracy: 0.9095\n",
      "14/14 [==============================] - 21s 1s/step - loss: 0.2303 - accuracy: 0.9052\n",
      "Evaluating optimisersgdbatch size 128\n",
      "Found 2944 images belonging to 2 classes.\n",
      "Found 420 images belonging to 2 classes.\n",
      "Found 844 images belonging to 2 classes.\n",
      "Epoch 1/5\n",
      "23/23 [==============================] - 309s 13s/step - loss: 0.6731 - accuracy: 0.5445 - val_loss: 0.6492 - val_accuracy: 0.5000\n",
      "Epoch 2/5\n",
      "23/23 [==============================] - 280s 12s/step - loss: 0.6244 - accuracy: 0.6529 - val_loss: 0.5592 - val_accuracy: 0.8429\n",
      "Epoch 3/5\n",
      "23/23 [==============================] - 238s 10s/step - loss: 0.5807 - accuracy: 0.6980 - val_loss: 0.4615 - val_accuracy: 0.8524\n",
      "Epoch 4/5\n",
      "23/23 [==============================] - 242s 10s/step - loss: 0.5185 - accuracy: 0.7463 - val_loss: 0.4908 - val_accuracy: 0.7262\n",
      "Epoch 5/5\n",
      "23/23 [==============================] - 240s 10s/step - loss: 0.4798 - accuracy: 0.7683 - val_loss: 0.3696 - val_accuracy: 0.8452\n",
      "7/7 [==============================] - 20s 3s/step - loss: 0.3839 - accuracy: 0.8187\n"
     ]
    }
   ],
   "source": [
    "adam_accuracies = []\n",
    "optimizer = \"adam\"\n",
    "for bs in batch_sizes_array:\n",
    "  adam_accuracies.append(batch_size_effect(optimizer, bs))\n",
    "\n",
    "sgd_accuracies = []\n",
    "optimizer = \"sgd\"\n",
    "for bs in batch_sizes_array:\n",
    "  sgd_accuracies.append(batch_size_effect(optimizer, bs))"
   ]
  },
  {
   "cell_type": "code",
   "execution_count": 16,
   "metadata": {},
   "outputs": [
    {
     "data": {
      "image/png": "[encoded data removed]",
      "text/plain": [
       "<Figure size 640x480 with 1 Axes>"
      ]
     },
     "metadata": {},
     "output_type": "display_data"
    },
    {
     "data": {
      "text/plain": [
       "<Figure size 640x480 with 0 Axes>"
      ]
     },
     "metadata": {},
     "output_type": "display_data"
    }
   ],
   "source": [
    "import matplotlib.pyplot as plt\n",
    "plt.plot(batch_sizes_array, adam_accuracies, color='red',label='Adam')\n",
    "plt.plot(batch_sizes_array, sgd_accuracies, color='green',label='SGD')\n",
    "plt.show()\n",
    "\n",
    "plt.savefig('batch_size_accuracies.png')"
   ]
  },
  {
   "cell_type": "markdown",
   "metadata": {},
   "source": [
    "# Push files to Repo"
   ]
  },
  {
   "cell_type": "code",
   "execution_count": null,
   "metadata": {},
   "outputs": [],
   "source": [
    "!git add ."
   ]
  },
  {
   "cell_type": "markdown",
   "metadata": {},
   "source": [
    "---"
   ]
  }
 ],
 "metadata": {
  "accelerator": "GPU",
  "colab": {
   "name": "Data Practitioner Jupyter Notebook.ipynb",
   "provenance": [],
   "toc_visible": true
  },
  "interpreter": {
   "hash": "8b8334dab9339717f727a1deaf837b322d7a41c20d15cc86be99a8e69ceec8ce"
  },
  "kernelspec": {
   "display_name": "Python 3.8.12 64-bit ('3.8.12': pyenv)",
   "language": "python",
   "name": "python381264bit3812pyenvce42f197d42549eb84ced7d13459cd51"
  },
  "language_info": {
   "codemirror_mode": {
    "name": "ipython",
    "version": 3
   },
   "file_extension": ".py",
   "mimetype": "text/x-python",
   "name": "python",
   "nbconvert_exporter": "python",
   "pygments_lexer": "ipython3",
   "version": "3.8.12"
  }
 },
 "nbformat": 4,
 "nbformat_minor": 2
}
